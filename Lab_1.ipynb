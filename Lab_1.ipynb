{
  "nbformat": 4,
  "nbformat_minor": 0,
  "metadata": {
    "colab": {
      "provenance": [],
      "authorship_tag": "ABX9TyPaCzr1xDBYbnJNDJYIwirV",
      "include_colab_link": true
    },
    "kernelspec": {
      "name": "python3",
      "display_name": "Python 3"
    },
    "language_info": {
      "name": "python"
    }
  },
  "cells": [
    {
      "cell_type": "markdown",
      "metadata": {
        "id": "view-in-github",
        "colab_type": "text"
      },
      "source": [
        "<a href=\"https://colab.research.google.com/github/2303A51908/AIML-2025/blob/main/Lab_1.ipynb\" target=\"_parent\"><img src=\"https://colab.research.google.com/assets/colab-badge.svg\" alt=\"Open In Colab\"/></a>"
      ]
    },
    {
      "cell_type": "code",
      "execution_count": null,
      "metadata": {
        "colab": {
          "base_uri": "https://localhost:8080/"
        },
        "id": "R2yBUefoXPpo",
        "outputId": "fd121297-1a15-4c75-8178-a396ecafde86"
      },
      "outputs": [
        {
          "output_type": "stream",
          "name": "stdout",
          "text": [
            "List: [1, 2, 3, 4, 5]\n"
          ]
        }
      ],
      "source": [
        "import numpy as np\n",
        "list=[1,2,3,4,5]\n",
        "print(\"List:\",list)\n"
      ]
    },
    {
      "cell_type": "code",
      "source": [
        "array1=np.array([1,2,3,4,5])\n",
        "array2=np.array([6,7,8,9,10])\n",
        "print(\"Array1:\",array1)\n",
        "print(\"Array2:\",array2)"
      ],
      "metadata": {
        "colab": {
          "base_uri": "https://localhost:8080/"
        },
        "id": "15zh5Zq-X4pq",
        "outputId": "ef35656e-0e79-412a-a56b-5ce8e246d810"
      },
      "execution_count": null,
      "outputs": [
        {
          "output_type": "stream",
          "name": "stdout",
          "text": [
            "Array1: [1 2 3 4 5]\n",
            "Array2: [ 6  7  8  9 10]\n"
          ]
        }
      ]
    },
    {
      "cell_type": "code",
      "source": [
        "print(\"Type of my list:\",type(list))"
      ],
      "metadata": {
        "colab": {
          "base_uri": "https://localhost:8080/"
        },
        "id": "-OZ1yY1qYEjA",
        "outputId": "e2400eaa-f3c2-40ba-b9d6-ced49a58dc6d"
      },
      "execution_count": null,
      "outputs": [
        {
          "output_type": "stream",
          "name": "stdout",
          "text": [
            "Type of my list: <class 'list'>\n"
          ]
        }
      ]
    },
    {
      "cell_type": "code",
      "source": [
        "a=array1+array2\n",
        "print(\"Addition:\",a)\n",
        "b=array1-array2\n",
        "print(\"Subtraction:\",b)\n",
        "c=array1*array2\n",
        "print(\"Multiplication:\",c)\n",
        "d=array1/array2\n",
        "print(\"Division:\",d)"
      ],
      "metadata": {
        "colab": {
          "base_uri": "https://localhost:8080/"
        },
        "id": "8ujsobzzYKZf",
        "outputId": "50606d9d-5cde-44af-fa32-4843444a138a"
      },
      "execution_count": null,
      "outputs": [
        {
          "output_type": "stream",
          "name": "stdout",
          "text": [
            "Addition: [ 7  9 11 13 15]\n",
            "Subtraction: [-5 -5 -5 -5 -5]\n",
            "Multiplication: [ 6 14 24 36 50]\n",
            "Division: [0.16666667 0.28571429 0.375      0.44444444 0.5       ]\n"
          ]
        }
      ]
    },
    {
      "cell_type": "code",
      "source": [
        "addition_result=array1+array2\n",
        "print(f\"Addition of two arrays:array1+array2={addition_result}\")"
      ],
      "metadata": {
        "colab": {
          "base_uri": "https://localhost:8080/"
        },
        "id": "Z6aNb8_ZYOcI",
        "outputId": "bc787123-0ef2-438e-ded0-cfe4b0607d87"
      },
      "execution_count": null,
      "outputs": [
        {
          "output_type": "stream",
          "name": "stdout",
          "text": [
            "Addition of two arrays:array1+array2=[ 7  9 11 13 15]\n"
          ]
        }
      ]
    },
    {
      "cell_type": "code",
      "source": [
        "sin_values=np.sin(array1)\n",
        "print(\"Sine of array1:\",sin_values)\n",
        "log_values=np.log(array1)\n",
        "print(\"Log of array1:\",log_values)\n",
        "exp_values=np.exp(array1)\n",
        "print(\"Exponential of array1:\",exp_values)"
      ],
      "metadata": {
        "colab": {
          "base_uri": "https://localhost:8080/"
        },
        "id": "eCBzSg46YXGa",
        "outputId": "08200f01-288e-482a-8e89-ef644780b85e"
      },
      "execution_count": null,
      "outputs": [
        {
          "output_type": "stream",
          "name": "stdout",
          "text": [
            "Sine of array1: [ 0.84147098  0.90929743  0.14112001 -0.7568025  -0.95892427]\n",
            "Log of array1: [0.         0.69314718 1.09861229 1.38629436 1.60943791]\n",
            "Exponential of array1: [  2.71828183   7.3890561   20.08553692  54.59815003 148.4131591 ]\n"
          ]
        }
      ]
    },
    {
      "cell_type": "code",
      "source": [
        "print(\"Adding two numpy arrays {array1} and {array2} together:\", array1+array2)"
      ],
      "metadata": {
        "colab": {
          "base_uri": "https://localhost:8080/"
        },
        "id": "c3eL2tspYcRk",
        "outputId": "5cdb57af-a87e-486a-f113-cb7018757da9"
      },
      "execution_count": null,
      "outputs": [
        {
          "output_type": "stream",
          "name": "stdout",
          "text": [
            "Adding two numpy arrays {array1} and {array2} together: [ 7  9 11 13 15]\n"
          ]
        }
      ]
    },
    {
      "cell_type": "code",
      "source": [
        "print(f\"Adding two numpy arrays {array1} and {array2} together: {array1+array2}\")"
      ],
      "metadata": {
        "id": "SOcNK5_GY2pf",
        "outputId": "3dbd2204-a844-49c4-88ff-699348617eb5",
        "colab": {
          "base_uri": "https://localhost:8080/"
        }
      },
      "execution_count": null,
      "outputs": [
        {
          "output_type": "stream",
          "name": "stdout",
          "text": [
            "Adding two numpy arrays [1 2 3 4 5] and [ 6  7  8  9 10] together: [ 7  9 11 13 15]\n"
          ]
        }
      ]
    }
  ]
}